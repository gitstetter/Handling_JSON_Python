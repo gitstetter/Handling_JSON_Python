{
 "metadata": {
  "language_info": {
   "codemirror_mode": {
    "name": "ipython",
    "version": 3
   },
   "file_extension": ".py",
   "mimetype": "text/x-python",
   "name": "python",
   "nbconvert_exporter": "python",
   "pygments_lexer": "ipython3",
   "version": "3.7.7-final"
  },
  "orig_nbformat": 2,
  "kernelspec": {
   "name": "python3",
   "display_name": "Python 3",
   "language": "python"
  }
 },
 "nbformat": 4,
 "nbformat_minor": 2,
 "cells": [
  {
   "cell_type": "code",
   "execution_count": 7,
   "metadata": {},
   "outputs": [],
   "source": [
    "# References\n",
    "#https://medium.com/swlh/converting-nested-json-structures-to-pandas-dataframes-e8106c59976e\n",
    "#https://github.com/MrFuguDataScience/JSON/blob/master/Nested_Json_Mult_Ex.ipynb\n",
    "#https://pandas.pydata.org/pandas-docs/stable/reference/api/pandas.io.json.build_table_schema.html\n",
    "\n",
    "import pandas as pd\n",
    "import json"
   ]
  },
  {
   "source": [
    "#### The following JSON contains information that is nested twice and is itself in a list - so one file can contain multiple JSON objects. \n",
    "\n",
    "Here is the structure:"
   ],
   "cell_type": "markdown",
   "metadata": {}
  },
  {
   "cell_type": "code",
   "execution_count": 50,
   "metadata": {},
   "outputs": [
    {
     "output_type": "stream",
     "name": "stdout",
     "text": [
      "[{'EventProperties': {'EnquedMessageTime': 1607243131479, 'MessageType': 'IoTHubRouting'}, 'Body': [{'msgtype': 'TELEMETRY DATA', 'Timestamp': 1607243134759, 'payload': [{'ID': 1, 'Sensor': 'Temp', 'Value': 30, 'Unit': 'Celsius'}, {'ID': 2, 'Sensor': 'Current', 'Value': 58, 'Unit': 'Volt'}]}, {'msgtype': 'TELEMETRY DATA', 'Timestamp': 1607243132333, 'payload': [{'ID': 3, 'Sensor': 'Temp', 'Value': 28.8, 'Unit': 'Celsius'}, {'ID': 4, 'Sensor': 'Current', 'Value': 43, 'Unit': 'Volt'}]}]}, {'EventProperties': {'EnquedMessageTime': 1607243131485, 'MessageType': 'IoTHubRouting'}, 'Body': [{'msgtype': 'TELEMETRY DATA', 'Timestamp': 1607243134759, 'payload': [{'ID': 5, 'Sensor': 'Temp', 'Value': 30, 'Unit': 'Celsius'}, {'ID': 6, 'Sensor': 'Current', 'Value': 58, 'Unit': 'Volt'}]}, {'msgtype': 'TELEMETRY DATA', 'Timestamp': 1607243132333, 'payload': [{'ID': 7, 'Sensor': 'Temp', 'Value': 28.8, 'Unit': 'Celsius'}, {'ID': 8, 'Sensor': 'Current', 'Value': 43, 'Unit': 'Volt'}]}]}]\n"
     ]
    }
   ],
   "source": [
    "with open(\"SampleRoutingData.json\") as f:\n",
    "    data =json.load(f)"
   ]
  },
  {
   "cell_type": "code",
   "execution_count": 43,
   "metadata": {},
   "outputs": [
    {
     "output_type": "stream",
     "name": "stdout",
     "text": [
      "                                                Body  \\\n0  {'msgtype': 'TELEMETRY DATA', 'Timestamp': 160...   \n0  {'msgtype': 'TELEMETRY DATA', 'Timestamp': 160...   \n1  {'msgtype': 'TELEMETRY DATA', 'Timestamp': 160...   \n1  {'msgtype': 'TELEMETRY DATA', 'Timestamp': 160...   \n\n   EventProperties.EnquedMessageTime EventProperties.MessageType  \n0                      1607243131479               IoTHubRouting  \n0                      1607243131479               IoTHubRouting  \n1                      1607243131485               IoTHubRouting  \n1                      1607243131485               IoTHubRouting  \n"
     ]
    }
   ],
   "source": [
    "# Read in JSON \n",
    "df = pd.json_normalize(data)\n",
    "\n",
    "# Explode list of measurements in Body\n",
    "df = df.explode('Body')\n",
    "print(df)"
   ]
  },
  {
   "cell_type": "code",
   "execution_count": 44,
   "metadata": {},
   "outputs": [],
   "source": [
    "df=pd.json_normalize(json.loads(df.to_json(orient=\"records\")))\n",
    "df=df.explode('Body.payload')\n",
    "\n",
    "df = pd.concat([df.drop(['Body.payload'], axis=1), df['Body.payload'].apply(pd.Series)], axis=1)"
   ]
  },
  {
   "cell_type": "code",
   "execution_count": 49,
   "metadata": {},
   "outputs": [],
   "source": [
    "\n",
    "df['Body.Timestamp'] = pd.to_datetime(df['Body.Timestamp'], unit='ms')"
   ]
  },
  {
   "cell_type": "code",
   "execution_count": null,
   "metadata": {},
   "outputs": [],
   "source": []
  }
 ]
}